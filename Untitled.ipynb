{
 "cells": [
  {
   "cell_type": "code",
   "execution_count": null,
   "id": "c7d8734e",
   "metadata": {},
   "outputs": [],
   "source": [
    "def children(your_children):\n",
    " print(f\" I have children {your_children}\")\n",
    "children(\"Jeff\")\n",
    "\n",
    "def my_siblings(fname, lname):\n",
    "  print(\"\\n I have sibling \" + fname + \" \" + lname)\n",
    "my_siblings(\"Suzan\", \"Smith\")\n",
    "\n",
    "def visited_countries(country):\n",
    "  print(\"\\n I have visited \" + country)\n",
    "visited_countries(\"UK\")\n",
    "\n",
    "def pets ( pet):\n",
    "  print (f\"\\n I love animals. I have {pet} at home\")\n",
    "pets(\"Kitten\")\n",
    "\n",
    "def brands(brand):\n",
    "  print(\"\\n I love clothes of \" + brand)\n",
    "brands(\"Gucci\")\n",
    "\n",
    "def food (sweets):\n",
    "  print(\"\\n I am fan of \" + sweets)\n",
    "food(\"Snickers\")\n",
    "\n",
    "def hobby(my_hobby):\n",
    " print(f\"\\n I do {my_hobby} in my free time\")\n",
    "hobby(\"sport\")\n",
    "\n",
    "def function(goals):\n",
    "  print(\"\\n My goal for this year is to \" + goals)\n",
    "function(\"buy a car\")\n",
    "\n",
    "def function(education):\n",
    "  print(\"\\n I study at \" + education)\n",
    "function(\"University\")\n",
    "\n",
    "def function(quotes):\n",
    " print(quotes)\n",
    "function(\"\\n I think, therefore I am\")\n"
   ]
  }
 ],
 "metadata": {
  "kernelspec": {
   "display_name": "Python 3",
   "language": "python",
   "name": "python3"
  },
  "language_info": {
   "codemirror_mode": {
    "name": "ipython",
    "version": 3
   },
   "file_extension": ".py",
   "mimetype": "text/x-python",
   "name": "python",
   "nbconvert_exporter": "python",
   "pygments_lexer": "ipython3",
   "version": "3.8.8"
  }
 },
 "nbformat": 4,
 "nbformat_minor": 5
}
